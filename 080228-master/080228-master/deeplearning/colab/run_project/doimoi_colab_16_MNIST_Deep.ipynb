{
 "cells": [
  {
   "cell_type": "code",
   "execution_count": 1,
   "metadata": {},
   "outputs": [],
   "source": [
    "import tensorflow as tf\n",
    "import matplotlib.pyplot as plt\n",
    "import numpy as np\n",
    "import pandas as pd\n",
    "import os"
   ]
  },
  {
   "cell_type": "code",
   "execution_count": 2,
   "metadata": {},
   "outputs": [],
   "source": [
    "# seed 값 설정\n",
    "\n",
    "seed=0\n",
    "np.random.seed(seed)\n",
    "tf.random.set_seed(3)"
   ]
  },
  {
   "cell_type": "code",
   "execution_count": 3,
   "metadata": {},
   "outputs": [
    {
     "name": "stdout",
     "output_type": "stream",
     "text": [
      "학습셋 이미지수: 60000\n",
      "테스트셋 이미지수: 10000\n"
     ]
    }
   ],
   "source": [
    "# mnist 데이터셋 불러오기\n",
    "(x_train,y_class_train),(x_test,y_class_test)=tf.keras.datasets.mnist.load_data()\n",
    "\n",
    "print('학습셋 이미지수: {}' .format(x_train.shape[0])) # minist 손글씨 학습셋 이미지셋 은 (60000,28,28) 로 구성되어 있다\n",
    "print('테스트셋 이미지수: {}' .format(x_test.shape[0]) )"
   ]
  },
  {
   "cell_type": "code",
   "execution_count": 4,
   "metadata": {},
   "outputs": [
    {
     "name": "stdout",
     "output_type": "stream",
     "text": [
      "(60000, 28, 28, 1)\n",
      "(10000, 28, 28, 1)\n"
     ]
    }
   ],
   "source": [
    "# 차원 변환 과정\n",
    "\n",
    "x_train=x_train.reshape(x_train.shape[0],28,28,1).astype(float) / 255 # 이제 주어진 가로 28, 세로 28개의 2차원 배열을 784개의 1차원 배열로 바꿔 줘야 한다. # 흰색이 0이고 글쓰기 1~255까지이기 때문에 0부터 1 사이를 만들기 위해서 255으로 나눠 준다. 컨볼루션층이나 맥스풀링은 주어진 이미지를 2차원 배열로 다룬다는 점이다. 활성화 함수는 1차원 배열로 다룬다. float32와 float32를 비교해 보았는데 별 차이 없는거 같다. mnist_simpe.ipynb는 x_train.shape[0],784).astype(float)로 했는데 이 파일에서는 x_train.shape[0],28,28,1로 했다. 아마도 conv2d와 maxfooling2d 때문인거 같다. 다른 문서를 찾아 보니 (18724, 28, 28) (18724,)이기 때문에 변경해 주어야 한다고 되어 있다 (my_image.py 참고)\n",
    "print(x_train.shape)\n",
    "\n",
    "x_test=x_test.reshape(x_test.shape[0],28,28,1).astype(float) / 255\n",
    "print(x_test.shape)"
   ]
  },
  {
   "cell_type": "code",
   "execution_count": 5,
   "metadata": {},
   "outputs": [
    {
     "name": "stdout",
     "output_type": "stream",
     "text": [
      "(60000, 10)\n",
      "(10000, 10)\n"
     ]
    }
   ],
   "source": [
    "y_class_train=pd.get_dummies(y_class_train)\n",
    "y_class_test=pd.get_dummies(y_class_test)\n",
    "\n",
    "\n",
    "print(y_class_train.shape)\n",
    "print(y_class_test.shape)"
   ]
  },
  {
   "cell_type": "code",
   "execution_count": 6,
   "metadata": {},
   "outputs": [],
   "source": [
    "x=tf.keras.layers.Input([28,28,1])\n",
    "h=tf.keras.layers.Conv2D(6, kernel_size=5, padding='same', activation='swish')(x)\n",
    "h=tf.keras.layers.MaxPool2D()(h) # 위치의 크기를 절반으로 줄인다. 여기서는 28*28이 14*14로 변한다\n",
    "h=tf.keras.layers.Conv2D(16,kernel_size=5,activation='swish')(h) # 이미지가 feature map(특징 맵)이 16장이 생긴다\n",
    "h=tf.keras.layers.MaxPool2D()(h)\n",
    "h=tf.keras.layers.Dropout(0.25)(h) # 노드가 많아지거나 층이  많아진다고 학습이 무조건 좋아지는 것이 아닌 과적합이  될수 있다. drop out은 은닉층에 배치된 노드 중 일부를 임의로 꺼 주는 것이다. dropout(0.25)를 하면 25% 노드를 일부러 꺼 주는 것이다\n",
    "\n",
    "h=tf.keras.layers.Flatten()(h) # 컨볼루션층이나 맥스풀링은 주어진 이미지를 2차원 배열로 다룬다는 점이다. 활성화 함수는 1차원 배열로 다룬다.\n",
    "h=tf.keras.layers.Dense(120, activation='swish')(h)\n",
    "h=tf.keras.layers.Dense(84, activation='swish')(h)\n",
    "\n",
    "h=tf.keras.layers.Dropout(0.25)(h) # 노드가 많아지거나 층이  많아진다고 학습이 무조건 좋아지는 것이 아닌 과적합이  될수 있다. drop out은 은닉층에 배치된 노드 중 일부를 임의로 꺼 주는 것이다. dropout(0.25)를 하면 25% 노드를 일부러 꺼 주는 것이다\n",
    "\n",
    "y=tf.keras.layers.Dense(10,activation='softmax')(h)\n",
    "\n",
    "model=tf.keras.models.Model(x,y)\n",
    "model.compile(loss='categorical_crossentropy', optimizer='adam', metrics='accuracy')\n",
    "\n"
   ]
  },
  {
   "cell_type": "code",
   "execution_count": 7,
   "metadata": {},
   "outputs": [],
   "source": [
    "\n",
    "from keras.callbacks import EarlyStopping\n",
    "Early_Stopping_callbacks=EarlyStopping(monitor='accuracy', patience=10) # 모니터할 값과 테스트 오차가 좋아지지 않아도 몇번까지 기다릴지 결정한다\n"
   ]
  },
  {
   "cell_type": "code",
   "execution_count": 8,
   "metadata": {},
   "outputs": [
    {
     "name": "stdout",
     "output_type": "stream",
     "text": [
      "Epoch 1/100\n",
      "300/300 [==============================] - 8s 23ms/step - loss: 0.5004 - accuracy: 0.8474\n",
      "Epoch 2/100\n",
      "300/300 [==============================] - 7s 23ms/step - loss: 0.1383 - accuracy: 0.9582\n",
      "Epoch 3/100\n",
      "300/300 [==============================] - 7s 23ms/step - loss: 0.0980 - accuracy: 0.9697\n",
      "Epoch 4/100\n",
      "300/300 [==============================] - 7s 23ms/step - loss: 0.0755 - accuracy: 0.9766\n",
      "Epoch 5/100\n",
      "300/300 [==============================] - 7s 23ms/step - loss: 0.0603 - accuracy: 0.9812\n",
      "Epoch 6/100\n",
      "300/300 [==============================] - 7s 23ms/step - loss: 0.0547 - accuracy: 0.9837\n",
      "Epoch 7/100\n",
      "300/300 [==============================] - 7s 23ms/step - loss: 0.0473 - accuracy: 0.9850\n",
      "Epoch 8/100\n",
      "300/300 [==============================] - 7s 23ms/step - loss: 0.0417 - accuracy: 0.9872\n",
      "Epoch 9/100\n",
      "300/300 [==============================] - 7s 23ms/step - loss: 0.0377 - accuracy: 0.9883\n",
      "Epoch 10/100\n",
      "300/300 [==============================] - 7s 24ms/step - loss: 0.0353 - accuracy: 0.9890\n",
      "Epoch 11/100\n",
      "300/300 [==============================] - 7s 23ms/step - loss: 0.0329 - accuracy: 0.9897\n",
      "Epoch 12/100\n",
      "300/300 [==============================] - 7s 23ms/step - loss: 0.0291 - accuracy: 0.9906\n",
      "Epoch 13/100\n",
      "300/300 [==============================] - 7s 25ms/step - loss: 0.0268 - accuracy: 0.9914\n",
      "Epoch 14/100\n",
      "300/300 [==============================] - 7s 23ms/step - loss: 0.0257 - accuracy: 0.9920\n",
      "Epoch 15/100\n",
      "300/300 [==============================] - 7s 24ms/step - loss: 0.0237 - accuracy: 0.9919\n",
      "Epoch 16/100\n",
      "300/300 [==============================] - 7s 23ms/step - loss: 0.0228 - accuracy: 0.9926\n",
      "Epoch 17/100\n",
      "300/300 [==============================] - 7s 23ms/step - loss: 0.0205 - accuracy: 0.9931\n",
      "Epoch 18/100\n",
      "300/300 [==============================] - 7s 23ms/step - loss: 0.0196 - accuracy: 0.9938\n",
      "Epoch 19/100\n",
      "300/300 [==============================] - 7s 24ms/step - loss: 0.0188 - accuracy: 0.9937\n",
      "Epoch 20/100\n",
      "300/300 [==============================] - 7s 23ms/step - loss: 0.0176 - accuracy: 0.9944\n",
      "Epoch 21/100\n",
      "300/300 [==============================] - 7s 23ms/step - loss: 0.0161 - accuracy: 0.9946\n",
      "Epoch 22/100\n",
      "300/300 [==============================] - 7s 23ms/step - loss: 0.0164 - accuracy: 0.9944\n",
      "Epoch 23/100\n",
      "300/300 [==============================] - 7s 23ms/step - loss: 0.0165 - accuracy: 0.9948\n",
      "Epoch 24/100\n",
      "300/300 [==============================] - 7s 23ms/step - loss: 0.0137 - accuracy: 0.9955\n",
      "Epoch 25/100\n",
      "300/300 [==============================] - 7s 23ms/step - loss: 0.0134 - accuracy: 0.9952\n",
      "Epoch 26/100\n",
      "300/300 [==============================] - 7s 23ms/step - loss: 0.0118 - accuracy: 0.9959\n",
      "Epoch 27/100\n",
      "300/300 [==============================] - 7s 23ms/step - loss: 0.0128 - accuracy: 0.9957\n",
      "Epoch 28/100\n",
      "300/300 [==============================] - 7s 23ms/step - loss: 0.0112 - accuracy: 0.9962\n",
      "Epoch 29/100\n",
      "300/300 [==============================] - 7s 23ms/step - loss: 0.0109 - accuracy: 0.9962\n",
      "Epoch 30/100\n",
      "300/300 [==============================] - 7s 23ms/step - loss: 0.0105 - accuracy: 0.9962\n",
      "Epoch 31/100\n",
      "300/300 [==============================] - 7s 24ms/step - loss: 0.0103 - accuracy: 0.9963\n",
      "Epoch 32/100\n",
      "300/300 [==============================] - 7s 23ms/step - loss: 0.0100 - accuracy: 0.9967\n",
      "Epoch 33/100\n",
      "300/300 [==============================] - 7s 23ms/step - loss: 0.0106 - accuracy: 0.9965\n",
      "Epoch 34/100\n",
      "300/300 [==============================] - 7s 23ms/step - loss: 0.0095 - accuracy: 0.9967\n",
      "Epoch 35/100\n",
      "300/300 [==============================] - 7s 24ms/step - loss: 0.0091 - accuracy: 0.9971\n",
      "Epoch 36/100\n",
      "300/300 [==============================] - 7s 23ms/step - loss: 0.0094 - accuracy: 0.9969\n",
      "Epoch 37/100\n",
      "300/300 [==============================] - 7s 23ms/step - loss: 0.0093 - accuracy: 0.9964\n",
      "Epoch 38/100\n",
      "300/300 [==============================] - 7s 24ms/step - loss: 0.0088 - accuracy: 0.9972\n",
      "Epoch 39/100\n",
      "300/300 [==============================] - 7s 24ms/step - loss: 0.0088 - accuracy: 0.9971\n",
      "Epoch 40/100\n",
      "300/300 [==============================] - 7s 23ms/step - loss: 0.0073 - accuracy: 0.9976\n",
      "Epoch 41/100\n",
      "300/300 [==============================] - 7s 24ms/step - loss: 0.0082 - accuracy: 0.9972\n",
      "Epoch 42/100\n",
      "300/300 [==============================] - 7s 24ms/step - loss: 0.0076 - accuracy: 0.9973\n",
      "Epoch 43/100\n",
      "300/300 [==============================] - 7s 24ms/step - loss: 0.0075 - accuracy: 0.9973\n",
      "Epoch 44/100\n",
      "300/300 [==============================] - 7s 24ms/step - loss: 0.0071 - accuracy: 0.9977\n",
      "Epoch 45/100\n",
      "300/300 [==============================] - 7s 24ms/step - loss: 0.0076 - accuracy: 0.9973\n",
      "Epoch 46/100\n",
      "300/300 [==============================] - 7s 24ms/step - loss: 0.0065 - accuracy: 0.9978\n",
      "Epoch 47/100\n",
      "300/300 [==============================] - 7s 24ms/step - loss: 0.0068 - accuracy: 0.9976\n",
      "Epoch 48/100\n",
      "300/300 [==============================] - 7s 24ms/step - loss: 0.0064 - accuracy: 0.9977\n",
      "Epoch 49/100\n",
      "300/300 [==============================] - 7s 25ms/step - loss: 0.0064 - accuracy: 0.9978\n",
      "Epoch 50/100\n",
      "300/300 [==============================] - 7s 24ms/step - loss: 0.0069 - accuracy: 0.9975\n",
      "Epoch 51/100\n",
      "300/300 [==============================] - 7s 24ms/step - loss: 0.0072 - accuracy: 0.9977\n",
      "Epoch 52/100\n",
      "300/300 [==============================] - 7s 24ms/step - loss: 0.0063 - accuracy: 0.9979\n",
      "Epoch 53/100\n",
      "300/300 [==============================] - 7s 23ms/step - loss: 0.0062 - accuracy: 0.9979\n",
      "Epoch 54/100\n",
      "300/300 [==============================] - 7s 23ms/step - loss: 0.0060 - accuracy: 0.9980\n",
      "Epoch 55/100\n",
      "300/300 [==============================] - 7s 24ms/step - loss: 0.0059 - accuracy: 0.9979\n",
      "Epoch 56/100\n",
      "300/300 [==============================] - 7s 24ms/step - loss: 0.0058 - accuracy: 0.9982\n",
      "Epoch 57/100\n",
      "300/300 [==============================] - 7s 25ms/step - loss: 0.0061 - accuracy: 0.9981\n",
      "Epoch 58/100\n",
      "300/300 [==============================] - 7s 23ms/step - loss: 0.0076 - accuracy: 0.9974\n",
      "Epoch 59/100\n",
      "300/300 [==============================] - 7s 23ms/step - loss: 0.0062 - accuracy: 0.9980\n",
      "Epoch 60/100\n",
      "300/300 [==============================] - 7s 23ms/step - loss: 0.0057 - accuracy: 0.9979\n",
      "Epoch 61/100\n",
      "300/300 [==============================] - 7s 23ms/step - loss: 0.0045 - accuracy: 0.9984\n",
      "Epoch 62/100\n",
      "300/300 [==============================] - 7s 24ms/step - loss: 0.0047 - accuracy: 0.9984\n",
      "Epoch 63/100\n",
      "300/300 [==============================] - 7s 24ms/step - loss: 0.0065 - accuracy: 0.9980\n",
      "Epoch 64/100\n",
      "300/300 [==============================] - 7s 24ms/step - loss: 0.0056 - accuracy: 0.9982\n",
      "Epoch 65/100\n",
      "300/300 [==============================] - 7s 23ms/step - loss: 0.0052 - accuracy: 0.9983\n",
      "Epoch 66/100\n",
      "300/300 [==============================] - 7s 23ms/step - loss: 0.0044 - accuracy: 0.9986\n",
      "Epoch 67/100\n",
      "300/300 [==============================] - 7s 23ms/step - loss: 0.0056 - accuracy: 0.9983\n",
      "Epoch 68/100\n",
      "300/300 [==============================] - 7s 23ms/step - loss: 0.0045 - accuracy: 0.9984\n",
      "Epoch 69/100\n",
      "300/300 [==============================] - 7s 24ms/step - loss: 0.0052 - accuracy: 0.9980\n",
      "Epoch 70/100\n",
      "300/300 [==============================] - 7s 23ms/step - loss: 0.0046 - accuracy: 0.9983\n",
      "Epoch 71/100\n",
      "300/300 [==============================] - 7s 23ms/step - loss: 0.0044 - accuracy: 0.9985\n",
      "Epoch 72/100\n",
      "300/300 [==============================] - 7s 23ms/step - loss: 0.0050 - accuracy: 0.9985\n",
      "Epoch 73/100\n",
      "300/300 [==============================] - 7s 23ms/step - loss: 0.0049 - accuracy: 0.9982\n",
      "Epoch 74/100\n",
      "300/300 [==============================] - 7s 23ms/step - loss: 0.0044 - accuracy: 0.9985\n",
      "Epoch 75/100\n",
      "300/300 [==============================] - 7s 24ms/step - loss: 0.0052 - accuracy: 0.9980\n",
      "Epoch 76/100\n",
      "300/300 [==============================] - 7s 24ms/step - loss: 0.0049 - accuracy: 0.9985\n",
      "Model: \"model\"\n",
      "_________________________________________________________________\n",
      " Layer (type)                Output Shape              Param #   \n",
      "=================================================================\n",
      " input_1 (InputLayer)        [(None, 28, 28, 1)]       0         \n",
      "                                                                 \n",
      " conv2d (Conv2D)             (None, 28, 28, 6)         156       \n",
      "                                                                 \n",
      " max_pooling2d (MaxPooling2D  (None, 14, 14, 6)        0         \n",
      " )                                                               \n",
      "                                                                 \n",
      " conv2d_1 (Conv2D)           (None, 10, 10, 16)        2416      \n",
      "                                                                 \n",
      " max_pooling2d_1 (MaxPooling  (None, 5, 5, 16)         0         \n",
      " 2D)                                                             \n",
      "                                                                 \n",
      " dropout (Dropout)           (None, 5, 5, 16)          0         \n",
      "                                                                 \n",
      " flatten (Flatten)           (None, 400)               0         \n",
      "                                                                 \n",
      " dense (Dense)               (None, 120)               48120     \n",
      "                                                                 \n",
      " dense_1 (Dense)             (None, 84)                10164     \n",
      "                                                                 \n",
      " dropout_1 (Dropout)         (None, 84)                0         \n",
      "                                                                 \n",
      " dense_2 (Dense)             (None, 10)                850       \n",
      "                                                                 \n",
      "=================================================================\n",
      "Total params: 61,706\n",
      "Trainable params: 61,706\n",
      "Non-trainable params: 0\n",
      "_________________________________________________________________\n"
     ]
    }
   ],
   "source": [
    "model.fit(x_train,y_class_train, epochs=100, batch_size=200, callbacks=[Early_Stopping_callbacks])\n",
    "\n",
    "model.summary()\n",
    "\n",
    "\n"
   ]
  }
 ],
 "metadata": {
  "kernelspec": {
   "display_name": "base",
   "language": "python",
   "name": "python3"
  },
  "language_info": {
   "codemirror_mode": {
    "name": "ipython",
    "version": 3
   },
   "file_extension": ".py",
   "mimetype": "text/x-python",
   "name": "python",
   "nbconvert_exporter": "python",
   "pygments_lexer": "ipython3",
   "version": "3.9.13"
  },
  "orig_nbformat": 4,
  "vscode": {
   "interpreter": {
    "hash": "d43fd8e729a9caee3dd2deedd9368c9e917ad35c69d2bc4126b3da226b1caf4f"
   }
  }
 },
 "nbformat": 4,
 "nbformat_minor": 2
}
