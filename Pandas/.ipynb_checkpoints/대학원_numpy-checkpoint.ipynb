{
 "cells": [
  {
   "cell_type": "code",
   "execution_count": 1,
   "id": "1d94c549",
   "metadata": {},
   "outputs": [
    {
     "name": "stdout",
     "output_type": "stream",
     "text": [
      "[ 0  1  2  3  4  5  6  7  8  9 10 11 12 13 14 15 16 17 18 19 20 21 22 23\n",
      " 24 25 26 27 28 29]\n"
     ]
    }
   ],
   "source": [
    "import numpy as np\n",
    "print(np.arange(30))"
   ]
  },
  {
   "cell_type": "code",
   "execution_count": 2,
   "id": "ba6b4a5f",
   "metadata": {},
   "outputs": [
    {
     "name": "stdout",
     "output_type": "stream",
     "text": [
      "int32\n"
     ]
    }
   ],
   "source": [
    "print(np.arange(30).dtype)"
   ]
  },
  {
   "cell_type": "code",
   "execution_count": 3,
   "id": "2bb8e50f",
   "metadata": {},
   "outputs": [
    {
     "name": "stdout",
     "output_type": "stream",
     "text": [
      "[[ 0  1  2  3  4  5]\n",
      " [ 6  7  8  9 10 11]\n",
      " [12 13 14 15 16 17]\n",
      " [18 19 20 21 22 23]\n",
      " [24 25 26 27 28 29]]\n"
     ]
    }
   ],
   "source": [
    "print(np.arange(30).reshape(5,6))"
   ]
  },
  {
   "cell_type": "code",
   "execution_count": 4,
   "id": "1d7933b4",
   "metadata": {},
   "outputs": [
    {
     "name": "stdout",
     "output_type": "stream",
     "text": [
      "[0. 0. 0. 0. 0. 0. 0. 0. 0. 0.]\n"
     ]
    }
   ],
   "source": [
    "print(np.zeros(10))"
   ]
  },
  {
   "cell_type": "code",
   "execution_count": 14,
   "id": "30f3fed0",
   "metadata": {},
   "outputs": [
    {
     "name": "stdout",
     "output_type": "stream",
     "text": [
      "[[0. 0. 0. 0. 0.]\n",
      " [0. 0. 0. 0. 0.]]\n"
     ]
    }
   ],
   "source": [
    "print(np.zeros((2,5)))"
   ]
  },
  {
   "cell_type": "code",
   "execution_count": 16,
   "id": "c5256b31",
   "metadata": {},
   "outputs": [
    {
     "name": "stdout",
     "output_type": "stream",
     "text": [
      "[[0. 0. 0. 0. 0.]\n",
      " [0. 0. 0. 0. 0.]] <class 'int'>\n"
     ]
    }
   ],
   "source": [
    "print(np.zeros((2,5)),int)"
   ]
  },
  {
   "cell_type": "code",
   "execution_count": 18,
   "id": "f59a1d05",
   "metadata": {},
   "outputs": [
    {
     "name": "stdout",
     "output_type": "stream",
     "text": [
      "2\n"
     ]
    }
   ],
   "source": [
    "print(np.zeros((2,5)).ndim)"
   ]
  },
  {
   "cell_type": "code",
   "execution_count": 20,
   "id": "887c110f",
   "metadata": {},
   "outputs": [
    {
     "name": "stdout",
     "output_type": "stream",
     "text": [
      "(2, 5)\n"
     ]
    }
   ],
   "source": [
    "print(np.zeros((2,5)).shape)"
   ]
  },
  {
   "cell_type": "code",
   "execution_count": 24,
   "id": "490e9018",
   "metadata": {},
   "outputs": [
    {
     "name": "stdout",
     "output_type": "stream",
     "text": [
      "[[0.23266177 0.27902194 0.77247108 0.41909325 0.68493721]\n",
      " [0.94399033 0.35400395 0.8476713  0.77239041 0.82717498]]\n"
     ]
    }
   ],
   "source": [
    "print(np.random.random((2,5)))"
   ]
  },
  {
   "cell_type": "code",
   "execution_count": 29,
   "id": "878bc766",
   "metadata": {},
   "outputs": [],
   "source": [
    "test_a=np.array([[1,2,3],[4,5,6]],float)"
   ]
  },
  {
   "cell_type": "code",
   "execution_count": 30,
   "id": "2f5a099a",
   "metadata": {},
   "outputs": [
    {
     "name": "stdout",
     "output_type": "stream",
     "text": [
      "[[ 2.  4.  6.]\n",
      " [ 8. 10. 12.]]\n"
     ]
    }
   ],
   "source": [
    "print(test_a+test_a)"
   ]
  },
  {
   "cell_type": "code",
   "execution_count": 31,
   "id": "e6146057",
   "metadata": {},
   "outputs": [
    {
     "name": "stdout",
     "output_type": "stream",
     "text": [
      "[[0. 0. 0.]\n",
      " [0. 0. 0.]]\n"
     ]
    }
   ],
   "source": [
    "print(test_a-test_a)"
   ]
  },
  {
   "cell_type": "code",
   "execution_count": 32,
   "id": "837245a2",
   "metadata": {},
   "outputs": [
    {
     "name": "stdout",
     "output_type": "stream",
     "text": [
      "[[1. 4.]\n",
      " [2. 5.]\n",
      " [3. 6.]]\n"
     ]
    }
   ],
   "source": [
    "print(test_a.transpose())"
   ]
  },
  {
   "cell_type": "code",
   "execution_count": 33,
   "id": "324ca156",
   "metadata": {},
   "outputs": [
    {
     "name": "stdout",
     "output_type": "stream",
     "text": [
      "[[17. 22. 27.]\n",
      " [22. 29. 36.]\n",
      " [27. 36. 45.]]\n"
     ]
    }
   ],
   "source": [
    "print(test_a.T.dot(test_a))"
   ]
  },
  {
   "cell_type": "code",
   "execution_count": 34,
   "id": "58ca12a6",
   "metadata": {},
   "outputs": [
    {
     "name": "stdout",
     "output_type": "stream",
     "text": [
      "[[ 1.  4.  9.]\n",
      " [16. 25. 36.]]\n"
     ]
    }
   ],
   "source": [
    "print(test_a * test_a)"
   ]
  },
  {
   "cell_type": "code",
   "execution_count": 37,
   "id": "a7869880",
   "metadata": {},
   "outputs": [],
   "source": [
    "test_matrix=np.array([[1,2,3],[4,5,6]],float)"
   ]
  },
  {
   "cell_type": "code",
   "execution_count": 38,
   "id": "6b073ea1",
   "metadata": {},
   "outputs": [],
   "source": [
    "scalar=5"
   ]
  },
  {
   "cell_type": "code",
   "execution_count": 39,
   "id": "8aa2cb87",
   "metadata": {},
   "outputs": [
    {
     "name": "stdout",
     "output_type": "stream",
     "text": [
      "[[ 6.  7.  8.]\n",
      " [ 9. 10. 11.]]\n"
     ]
    }
   ],
   "source": [
    "print(test_matrix + scalar)"
   ]
  },
  {
   "cell_type": "code",
   "execution_count": 40,
   "id": "c5d02b73",
   "metadata": {},
   "outputs": [
    {
     "name": "stdout",
     "output_type": "stream",
     "text": [
      "[[-4. -3. -2.]\n",
      " [-1.  0.  1.]]\n"
     ]
    }
   ],
   "source": [
    "print(test_matrix - scalar)"
   ]
  },
  {
   "cell_type": "code",
   "execution_count": 41,
   "id": "69dc938f",
   "metadata": {},
   "outputs": [
    {
     "name": "stdout",
     "output_type": "stream",
     "text": [
      "[[ 5. 10. 15.]\n",
      " [20. 25. 30.]]\n"
     ]
    }
   ],
   "source": [
    "print(test_matrix * 5)"
   ]
  }
 ],
 "metadata": {
  "kernelspec": {
   "display_name": "Python 3 (ipykernel)",
   "language": "python",
   "name": "python3"
  },
  "language_info": {
   "codemirror_mode": {
    "name": "ipython",
    "version": 3
   },
   "file_extension": ".py",
   "mimetype": "text/x-python",
   "name": "python",
   "nbconvert_exporter": "python",
   "pygments_lexer": "ipython3",
   "version": "3.9.12"
  }
 },
 "nbformat": 4,
 "nbformat_minor": 5
}
